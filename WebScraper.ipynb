{
 "cells": [
  {
   "cell_type": "markdown",
   "metadata": {
    "id": "maBJDQSVunsO"
   },
   "source": [
    "# <font color='blue'>Products Assignament Case</font>\n"
   ]
  },
  {
   "cell_type": "code",
   "execution_count": 1,
   "metadata": {
    "colab": {
     "base_uri": "https://localhost:8080/"
    },
    "id": "MTVmWAqLunst",
    "outputId": "f476f49d-fa60-4a87-c79a-7757ac297378"
   },
   "outputs": [
    {
     "name": "stdout",
     "output_type": "stream",
     "text": [
      "Version of Python used on this Notebook: 3.8.5\n"
     ]
    }
   ],
   "source": [
    "# Version of Python\n",
    "from platform import python_version\n",
    "print('Version of Python used on this Notebook:', python_version())"
   ]
  },
  {
   "cell_type": "markdown",
   "metadata": {
    "id": "1hYeSeLGuntg"
   },
   "source": [
    "## The objective\n",
    "Create a command-line application that, given a list of website URLs as input, visits them and finds, extracts and outputs the websites’ logo image URLs and all phone numbers (e.g. mobile phones, land lines, fax numbers) present on the websites."
   ]
  },
  {
   "cell_type": "markdown",
   "metadata": {
    "id": "1Dv8GpeSuntl"
   },
   "source": [
    "## Importing modules and libraries.\n",
    "Dataset websites.txt make as example show in given PDF."
   ]
  },
  {
   "cell_type": "code",
   "execution_count": 6,
   "metadata": {
    "id": "nFmG146Wuntn"
   },
   "outputs": [],
   "source": [
    "# Importing modules\n",
    "import re\n",
    "import concurrent.futures     \n",
    "import urllib.request\n",
    "from bs4 import BeautifulSoup \n",
    "import json\n",
    "import warnings\n",
    "warnings.filterwarnings(\"ignore\", category=FutureWarning) "
   ]
  },
  {
   "cell_type": "code",
   "execution_count": 9,
   "metadata": {
    "scrolled": false
   },
   "outputs": [
    {
     "name": "stdout",
     "output_type": "stream",
     "text": [
      "https://www.cialdnb.com/contact/\n",
      "\n",
      "https://www.cialdnb.com/en\n",
      "\n",
      "https://www.powerlinx.com/contact\n",
      "\n",
      "https://www.illion.com.au/contact-us\n",
      "\n",
      "https://www.illion.com.au\n",
      "\n",
      "\n",
      "\n"
     ]
    }
   ],
   "source": [
    "dados = {} # data for JSON file\n",
    "nome = \"websites.txt\" #file with websites\n",
    "padrao = '(\\+\\d+)(?:[\\s-])(\\d+)(?:[\\s-])(\\d+)(?:[\\s-])(\\d+)' #pattern for international phone number\n",
    "\n",
    "def encontra_padrao(frase):\n",
    "    fone = re.findall(padrao,str(frase))\n",
    "    return fone\n",
    "\n",
    "def processa_web(site):\n",
    "    user_agent = 'Mozilla/5.0 (Macintosh; Intel Mac OS X 10_9_3) AppleWebKit/537.36 (KHTML, like Gecko) Chrome/35.0.1916.47 Safari/537.36'\n",
    "    request = urllib.request.Request(site,headers={'User-Agent': user_agent})\n",
    "    html = urllib.request.urlopen(request).read()\n",
    "    soup = BeautifulSoup(html,'html.parser')\n",
    "    logos = soup.find_all('a',ids='logo')\n",
    "    for logo in logos:\n",
    "        endereco = re.findall(r'(https?://\\S+)', str(logo))\n",
    "    print(endereco)\n",
    "    fones = encontra_padrao (soup)\n",
    "    print (fones)\n",
    "    dados['logo'].append({\n",
    "        'logo': endereco,\n",
    "        'phones': fones,\n",
    "        'website': site\n",
    "    })\n",
    "\n",
    "try:\n",
    "    arquivo = open(nome, 'r')   # Open file with the names of the sites to be acessed\n",
    "except:\n",
    "    print(\"Can't open file %s\" %(nome))\n",
    "else:\n",
    "    lista = arquivo.readlines() # load file with websites on a list\n",
    "    dados['logo'] = []\n",
    "    for sites in lista:\n",
    "        print(sites)\n",
    "        try:\n",
    "            with concurrent.futures.ProcessPoolExecutor() as executor:\n",
    "                executor.map(processa_web, sites)\n",
    "        except:\n",
    "            print(\"Connection Error with %s\" %(sites))\n",
    "    with open('data.json', 'w') as outfile:\n",
    "        json.dump(dados, outfile)        \n",
    "    arquivo.close()\n",
    "        \n"
   ]
  },
  {
   "cell_type": "markdown",
   "metadata": {
    "id": "1ku6U7ixunx8"
   },
   "source": [
    "# The End"
   ]
  },
  {
   "cell_type": "code",
   "execution_count": null,
   "metadata": {},
   "outputs": [],
   "source": []
  }
 ],
 "metadata": {
  "colab": {
   "name": "WebScraper.ipynb",
   "provenance": []
  },
  "kernelspec": {
   "display_name": "Python 3",
   "language": "python",
   "name": "python3"
  },
  "language_info": {
   "codemirror_mode": {
    "name": "ipython",
    "version": 3
   },
   "file_extension": ".py",
   "mimetype": "text/x-python",
   "name": "python",
   "nbconvert_exporter": "python",
   "pygments_lexer": "ipython3",
   "version": "3.8.5"
  }
 },
 "nbformat": 4,
 "nbformat_minor": 1
}
